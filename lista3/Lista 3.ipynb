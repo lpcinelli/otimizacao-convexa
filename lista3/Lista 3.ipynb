{
 "cells": [
  {
   "cell_type": "code",
   "execution_count": 1,
   "metadata": {
    "collapsed": true
   },
   "outputs": [],
   "source": [
    "# Import buit-in modules\n",
    "\n",
    "import numpy as np\n",
    "import sympy as sp\n",
    "import matplotlib.pyplot as plt\n",
    "import seaborn as sns\n",
    "from scipy.optimize import minimize\n",
    "\n",
    "%matplotlib notebook\n",
    "plt.rcParams.update({'font.size': 17})"
   ]
  },
  {
   "cell_type": "code",
   "execution_count": 2,
   "metadata": {
    "collapsed": true
   },
   "outputs": [],
   "source": [
    "# Import my own modules\n",
    "import sys\n",
    "sys.path.insert(0, '../utils')\n",
    "from mycvx import *\n",
    "from myplots import *"
   ]
  },
  {
   "cell_type": "markdown",
   "metadata": {
    "collapsed": true
   },
   "source": [
    "## 6.1"
   ]
  },
  {
   "cell_type": "code",
   "execution_count": 3,
   "metadata": {},
   "outputs": [],
   "source": [
    "Q1 = sp.MatrixSymbol('Q1', 4, 4)\n",
    "Q2 = sp.MatrixSymbol('Q2', 4, 4)\n",
    "Q3 = sp.MatrixSymbol('Q3', 4, 4)\n",
    "Q4 = sp.MatrixSymbol('Q4', 4, 4)\n",
    "Q = sp.BlockMatrix([[Q1, Q2, Q3, Q4],\n",
    "                   [Q2, Q1, Q2, Q3],\n",
    "                   [Q3, Q2, Q1, Q2],\n",
    "                   [Q4, Q3, Q2, Q1]])"
   ]
  },
  {
   "cell_type": "code",
   "execution_count": 4,
   "metadata": {},
   "outputs": [],
   "source": [
    "Q1_num = sp.Matrix([[12, 8, 7, 6],\n",
    "                    [8, 12, 8, 7],\n",
    "                    [7, 8, 12, 8],\n",
    "                    [6, 7, 8, 12]])\n",
    "\n",
    "Q2_num = sp.Matrix([[3, 2, 1, 0],\n",
    "                    [2, 3, 2, 1],\n",
    "                    [1, 2, 3, 2],\n",
    "                    [0, 1, 2, 3]])\n",
    "\n",
    "Q3_num = sp.Matrix([[2, 1, 0, 0],\n",
    "                    [1, 2, 1, 0],\n",
    "                    [0, 1, 2, 1],\n",
    "                    [0, 0, 1, 2]])\n",
    "\n",
    "Q4_num = sp.eye(4)\n",
    "\n",
    "Q = Q.as_explicit()\n",
    "Q = Q.evalf(subs={Qk: Qk_num for Qk, Qk_num in zip([Q1,Q2,Q3,Q4],[Q1_num,Q2_num,Q3_num,Q4_num])})"
   ]
  },
  {
   "cell_type": "code",
   "execution_count": 5,
   "metadata": {},
   "outputs": [],
   "source": [
    "b = -sp.Matrix([1, 1, 1, 1, 0, 0, 0, 0, 1, 1, 1, 1, 0, 0, 0, 0])"
   ]
  },
  {
   "cell_type": "code",
   "execution_count": 6,
   "metadata": {
    "collapsed": true
   },
   "outputs": [],
   "source": [
    "def loss1(x):\n",
    "    return (x.T*Q*x)/2 + b.T*x"
   ]
  },
  {
   "cell_type": "code",
   "execution_count": 7,
   "metadata": {
    "scrolled": true
   },
   "outputs": [
    {
     "name": "stdout",
     "output_type": "stream",
     "text": [
      "\n",
      "Using 'Conjugate gradient' - algo 6.2\n",
      "\n",
      "x min [ 0.03423704  0.02423337  0.02423337  0.03423704 -0.00143237 -0.02088798\n",
      " -0.02088798 -0.00143237  0.03321913  0.02738606  0.02738606  0.03321913\n",
      " -0.00663057 -0.00486331 -0.00486331 -0.00663057]\n",
      "\n",
      "f(x min) [[-0.1190756]]\n",
      "\n",
      "nb evals {'nbFunEval': 9, 'nbHessEval': 9, 'nbGradEval': 9}\n"
     ]
    }
   ],
   "source": [
    "x0 = np.zeros((16,1))\n",
    "xHist = {}\n",
    "fxHist = {}\n",
    "nbEvalList = {}\n",
    "\n",
    "print('\\nUsing \\'Conjugate gradient\\' - algo 6.2')\n",
    "xHist, fxHist, nbEvalList = generalDescentMethod(x0, loss1, conjugateMethod, \\\n",
    "                                                eps=1e-6)\n",
    "print('\\nx min', xHist[-1])\n",
    "print('\\nf(x min)', fxHist[-1])\n",
    "print('\\nnb evals', nbEvalList)"
   ]
  },
  {
   "cell_type": "code",
   "execution_count": 5,
   "metadata": {},
   "outputs": [
    {
     "name": "stdout",
     "output_type": "stream",
     "text": [
      "xmin= [ 1.00000007  1.00000011]\n",
      "f(xmin)= 3.43174783409e-14\n"
     ]
    }
   ],
   "source": [
    "def loss2(x):\n",
    "    return 100*(x[1] - x[0]**2)**2 + (1 - x[0])**2\n",
    "\n",
    "res = minimize(loss2, (0,0), method='nelder-mead', options={'xtol': 1e-6, 'disp': False})\n",
    "loss1Min = res.x\n",
    "print('xmin=',res.x)\n",
    "print('f(xmin)=',res.fun)"
   ]
  },
  {
   "cell_type": "code",
   "execution_count": 4,
   "metadata": {},
   "outputs": [
    {
     "name": "stdout",
     "output_type": "stream",
     "text": [
      "Using Fletcher-Reeves algorithm w/ line search w/ params alpha=0.01,beta=0.3\n",
      "\n",
      "[-2.  2.]\n",
      "x min [ 1.58530273  2.47020939]\n",
      "f(x min) 0.527267478574\n",
      "nb evals {'nbFunEval': 143, 'nbGradEval': 14}\n",
      "\n",
      "[ 2. -2.]\n",
      "x min [ 0.99988941  0.99977846]\n",
      "f(x min) 1.22442208237e-08\n",
      "nb evals {'nbFunEval': 303, 'nbGradEval': 42}\n",
      "\n",
      "[-2. -2.]\n",
      "x min [ 0.07990972 -0.05195758]\n",
      "f(x min) 1.18695830996\n",
      "nb evals {'nbFunEval': 128, 'nbGradEval': 14}\n"
     ]
    }
   ],
   "source": [
    "x0s = np.array(((-2.0, 2.0), (2.0, -2.0), (-2.0, -2.0),))\n",
    "xHist = {}\n",
    "fxHist = {}\n",
    "nbEvalList = {}\n",
    "   \n",
    "print('Using Fletcher-Reeves algorithm w/ line search w/ params alpha=0.01,beta=0.3')\n",
    "for x0 in x0s:\n",
    "    xHist = {}\n",
    "    fxHist = {}\n",
    "    nbEvalList = {}\n",
    "    print()\n",
    "    print(x0)\n",
    "    xHist, fxHist, nbEvalList = generalDescentMethod(x0, loss2, conjugateMethod, eps=1e-6,\n",
    "                                                     lineSearchMethod=backtrackingLineSearch,\n",
    "                                                     alpha=0.01,beta=0.3)\n",
    "    print('x min', xHist[-1])\n",
    "    print('f(x min)', fxHist[-1])\n",
    "    print('nb evals',nbEvalList)"
   ]
  },
  {
   "cell_type": "code",
   "execution_count": null,
   "metadata": {
    "collapsed": true
   },
   "outputs": [],
   "source": []
  }
 ],
 "metadata": {
  "kernelspec": {
   "display_name": "Python 3",
   "language": "python",
   "name": "python3"
  },
  "language_info": {
   "codemirror_mode": {
    "name": "ipython",
    "version": 3
   },
   "file_extension": ".py",
   "mimetype": "text/x-python",
   "name": "python",
   "nbconvert_exporter": "python",
   "pygments_lexer": "ipython3",
   "version": "3.6.1"
  }
 },
 "nbformat": 4,
 "nbformat_minor": 2
}
